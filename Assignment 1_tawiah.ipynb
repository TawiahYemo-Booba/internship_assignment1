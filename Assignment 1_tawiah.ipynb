{
 "cells": [
  {
   "cell_type": "markdown",
   "id": "19d916ef",
   "metadata": {},
   "source": [
    "## Python Programming Using Jupyter Notebook\n",
    "\n",
    "### Name: Tawiah Yemo-Booba\n",
    " ### Internship Assignment: 1\n",
    " ---"
   ]
  },
  {
   "cell_type": "markdown",
   "id": "94cca795",
   "metadata": {},
   "source": [
    "Question 1:1.\tWrite a short program that generates a random number and asks the user to make a guess through user inputs. When a guess is incorrect, the program should tell the user if their guess is greater or less than the generated number. When the guess is correct, the program should inform the user that they guessed correctly. The program should then print out a list of all the guesses made and write the output to a text file. "
   ]
  },
  {
   "cell_type": "code",
   "execution_count": 1,
   "id": "a3b61336",
   "metadata": {},
   "outputs": [
    {
     "name": "stdout",
     "output_type": "stream",
     "text": [
      "This is the Guessgame computer program. As the user you are required to guess the number the system has picked out for you. Good luck!\n",
      "Try guessing a number between 1 and 250: 45\n",
      "Your guess is low. Pick another number.\n",
      "Try guessing a number between 1 and 250: 157\n",
      "Your guess is too high. Pick another number..\n",
      "Try guessing a number between 1 and 250: 130\n",
      "Your guess is low. Pick another number.\n",
      "Try guessing a number between 1 and 250: 135\n",
      "Your guess is low. Pick another number.\n",
      "Try guessing a number between 1 and 250: 140\n",
      "Your guess is too high. Pick another number..\n",
      "Try guessing a number between 1 and 250: 136\n",
      "Congratulations, your guess, 136 is right.\n"
     ]
    }
   ],
   "source": [
    "# The module, random is used to pick a number between 1 and 250, which the program user must guess.\n",
    "print(\"This is the Guessgame computer program. As the user you are required to guess the number the system has picked out for you. Good luck!\")\n",
    "import random\n",
    "random_number = random.randint(1, 250)\n",
    "\n",
    "# Below, a list is generated to store the user's guesses.\n",
    "guesses = []\n",
    "    \n",
    "#A function is written for the app users to input their guesses.    \n",
    "def number_guess():\n",
    "    while True:\n",
    "        try:\n",
    "            guess = int(input(\"Try guessing a number between 1 and 250: \"))\n",
    "            if 1 <= guess <= 250:\n",
    "                return guess\n",
    "            else:\n",
    "                print(\"Please choose a number between 1 and 250.\")\n",
    "        except ValueError:\n",
    "            print(\"Invalid input, please enter a number in the range.\")\n",
    "# The lines of code above ensure that the right data type and value between 1 and 250 is chosen as a guess.\n",
    "\n",
    "# The lines of code below show whether guesses picked are above,below or is equal to that selected by the program.\n",
    "while True:\n",
    "    your_guess = number_guess()\n",
    "    guesses.append(your_guess)\n",
    "\n",
    "    if your_guess < random_number:\n",
    "        print(\"Your guess is low. Pick another number.\")\n",
    "    elif your_guess > random_number:\n",
    "        print(\"Your guess is too high. Pick another number..\")\n",
    "    else:\n",
    "        print(f\"Congratulations, your guess, {random_number} is right.\")\n",
    "        break\n",
    "# A text file of the program is created using the write module. The program is called the Guessgame.\n",
    "with open(\"Guessgame.txt\", \"w\") as file:\n",
    "    file.write(\"Guesses:\\n\")\n",
    "    for guess in guesses:\n",
    "        file.write(f\"{guess}\\n\")\n"
   ]
  },
  {
   "cell_type": "markdown",
   "id": "9403ae09",
   "metadata": {},
   "source": [
    "2. Create a list of numbers between 0 to 150 with every suceeding number having an increment of 2. Randomly split the list of numbers into two. Ask users to input a random number. Write a program to loop through each list to find which list the number belongs. If the number is found in the first, eliminate the other list and vice versa. If the number is not in either lists, the program should notify the ussr accordingly."
   ]
  },
  {
   "cell_type": "code",
   "execution_count": 6,
   "id": "c4a00f95",
   "metadata": {},
   "outputs": [
    {
     "name": "stdout",
     "output_type": "stream",
     "text": [
      "Enter a number: 12\n",
      "The number you picked, 12 is in List 1.\n",
      "List 2 has been eliminated\n",
      "The chosen List is: List 1\n"
     ]
    }
   ],
   "source": [
    "# The module, random, is imported to generate numbers between 0 and 150 The list of numbers fall between 0 and 150 with a step of 2.\n",
    "import random\n",
    "numbers = list(range(0, 151, 2))\n",
    "\n",
    "# The numbers are shuffled randomly and are split into two lists. \n",
    "random.shuffle(numbers)\n",
    "split_index = random.randint(1, len(numbers) - 1)\n",
    "list1 = numbers[:split_index]\n",
    "list2 = numbers[split_index:]\n",
    "\n",
    "# A user input system is created for users to provide chosen numbers.\n",
    "your_number = int(input(\"Enter a number: \"))\n",
    "    \n",
    "# The chosen number is then taken and the list in which it can be found is mentioned. The other list is eliminated.     \n",
    "if your_number in list1:\n",
    "    print(f\"The number you picked, {your_number} is in List 1.\")\n",
    "    print(\"List 2 has been eliminated\")\n",
    "elif your_number in list2:\n",
    "    print(f\"The number you picked, {your_number} is in List 2.\")\n",
    "    print(\"List 1 has been eliminated.\")\n",
    "else:\n",
    "    print(f\"The number you picked, {your_number} is in neither List 1 nor List 2.\")\n",
    "\n",
    "if your_number in list1:\n",
    "    print(\"The chosen List is: List 1\")\n",
    "elif your_number in list2:\n",
    "    print(\"The chosen List is: List 2\")\n"
   ]
  },
  {
   "cell_type": "code",
   "execution_count": null,
   "id": "e5cf852a",
   "metadata": {},
   "outputs": [],
   "source": []
  },
  {
   "cell_type": "code",
   "execution_count": null,
   "id": "388048b7",
   "metadata": {},
   "outputs": [],
   "source": []
  }
 ],
 "metadata": {
  "kernelspec": {
   "display_name": "Python 3 (ipykernel)",
   "language": "python",
   "name": "python3"
  },
  "language_info": {
   "codemirror_mode": {
    "name": "ipython",
    "version": 3
   },
   "file_extension": ".py",
   "mimetype": "text/x-python",
   "name": "python",
   "nbconvert_exporter": "python",
   "pygments_lexer": "ipython3",
   "version": "3.11.1"
  }
 },
 "nbformat": 4,
 "nbformat_minor": 5
}
